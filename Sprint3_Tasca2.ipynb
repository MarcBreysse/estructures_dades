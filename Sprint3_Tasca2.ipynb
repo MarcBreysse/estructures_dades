{
 "cells": [
  {
   "cell_type": "code",
   "execution_count": 56,
   "metadata": {},
   "outputs": [
    {
     "name": "stdout",
     "output_type": "stream",
     "text": [
      "{'1T': 'Gener, Febrer, Març', '2T': 'Abril, Maig, Juny', '3T': 'Juli, Agost, Setembre', '4T': 'Octubre, Novembre, Desembre'}\n"
     ]
    }
   ],
   "source": [
    "#Exercici 1\n",
    "thisdict = {\n",
    "  \"1T\": \"Gener, Febrer, Març\",\n",
    "  \"2T\": \"Abril, Maig, Juny\",\n",
    "  \"3T\": \"Juli, Agost, Setembre\",\n",
    "  \"4T\": \"Octubre, Novembre, Desembre\",\n",
    "}\n",
    "print(thisdict)"
   ]
  },
  {
   "cell_type": "code",
   "execution_count": 3,
   "metadata": {},
   "outputs": [
    {
     "name": "stdout",
     "output_type": "stream",
     "text": [
      "Febrer\n",
      "['Gener', 'Febrer', 'Març']\n",
      "['Setembre', 'Octubre']\n"
     ]
    }
   ],
   "source": [
    "#Exercici 2\n",
    "listmesos = [\"Gener\", \"Febrer\", \"Març\", \"Abril\", \"Maig\", \"Juny\", \"Juli\", \"Agost\", \"Setembre\",\"Octubre\", \"Novembre\", \"Desembre\"]\n",
    "print(listmesos[1])\n",
    "print(listmesos[0:3])\n",
    "print(listmesos[8:10])\n"
   ]
  },
  {
   "cell_type": "code",
   "execution_count": 5,
   "metadata": {},
   "outputs": [
    {
     "name": "stdout",
     "output_type": "stream",
     "text": [
      "[2, 9, 3, 1, 8, 6, 12, 6, 3, 7, 4]\n",
      "11\n",
      "2\n",
      "12\n",
      "<class 'list'>\n"
     ]
    }
   ],
   "source": [
    "#Exercici 3\n",
    "nombresdesordonats = [2,9,3,1,8,6,12,6,3,7,4]\n",
    "print(nombresdesordonats)\n",
    "print(len(nombresdesordonats))\n",
    "print(nombresdesordonats.count(3))\n",
    "print(max(nombresdesordonats))\n",
    "#Quins són els 3 números més petits?.................Encara, no he pogut trobar la función si existeix\n",
    "print(type(nombresdesordonats))"
   ]
  },
  {
   "cell_type": "code",
   "execution_count": 19,
   "metadata": {},
   "outputs": [
    {
     "name": "stdout",
     "output_type": "stream",
     "text": [
      "{'Pomes': {'Qty': 5, '€': 0.42}, 'Peres': {'Qty': 3, '€': 0.66}, 'Mandarines': {'Qty': 10, '€': 0.12}}\n",
      "1.98\n",
      "8\n",
      "0.66\n"
     ]
    }
   ],
   "source": [
    "#Exercici 4\n",
    "compra = { \n",
    "    \"Pomes\" : {\"Qty\": 5, \"€\": 0.42}, \n",
    "    \"Peres\" : {\"Qty\": 3, \"€\": 0.66}, \n",
    "}\n",
    "#Afegeix alguna fruita més\n",
    "compra.update({\"Mandarines\": {\"Qty\": 10, \"€\": 0.12}})\n",
    "print(compra)\n",
    "#Quant han costat les peres en total?\n",
    "print(compra[\"Peres\"][\"Qty\"]*compra[\"Peres\"][\"€\"])\n",
    "#Quantes fruites hem comprat en total?\n",
    "print(compra[\"Peres\"][\"Qty\"]+compra[\"Pomes\"][\"Qty\"])\n",
    "#Quina és la fruita més cara?\n",
    "print(max(compra[\"Peres\"][\"€\"],compra[\"Pomes\"][\"€\"],compra[\"Mandarines\"][\"€\"]))"
   ]
  }
 ],
 "metadata": {
  "kernelspec": {
   "display_name": "Python 3",
   "language": "python",
   "name": "python3"
  },
  "language_info": {
   "codemirror_mode": {
    "name": "ipython",
    "version": 3
   },
   "file_extension": ".py",
   "mimetype": "text/x-python",
   "name": "python",
   "nbconvert_exporter": "python",
   "pygments_lexer": "ipython3",
   "version": "3.8.5"
  }
 },
 "nbformat": 4,
 "nbformat_minor": 4
}
